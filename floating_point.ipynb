{
 "cells": [
  {
   "cell_type": "code",
   "execution_count": null,
   "metadata": {
    "collapsed": true
   },
   "outputs": [],
   "source": [
    "from __future__ import division\n",
    "from read_binary import *"
   ]
  },
  {
   "cell_type": "markdown",
   "metadata": {},
   "source": [
    "# Warm Up: Bit Shifting\n",
    "\n",
    "What is that strange sign `<<`? That's the bit shif. Try to ask python to shift the bits of `1`, three positions left:\n",
    "```\n",
    "1<<3\n",
    "```\n",
    "Let's see in detail:\n",
    "```\n",
    "1    # one in binary\n",
    "10   # we shif one position lef we get two\n",
    "100  # with the second shift we obtain four\n",
    "1000 # with the third shift we finally obtain eight\n",
    "```"
   ]
  },
  {
   "cell_type": "code",
   "execution_count": null,
   "metadata": {
    "collapsed": false,
    "scrolled": true
   },
   "outputs": [],
   "source": []
  },
  {
   "cell_type": "markdown",
   "metadata": {},
   "source": [
    "# Binary Representation\n",
    "\n",
    "We start from a 4 bits representation a number. Consider 3 bits for the mantissa, and one bit for the exponent. The numbers we can represent are:\n",
    "$$\n",
    "(1 + \\mathrm{normalised\\ mantissa})\\cdot 2^{\\mathrm{exponent}}\n",
    "$$\n",
    "The $\\mathrm{nomalised\\ mantissa}$ is the:\n",
    "$$\n",
    "\\mathrm{normalised\\ mantissa} = \\frac{\\mathrm{mantissa}}{\\mathrm{upper\\ bound}}\n",
    "$$\n",
    "With three binary digits, the $\\mathrm{upper bound}$ is $2^3 = 8$\n",
    "\n",
    "\n",
    "\n",
    "\n",
    "| binary mantissa | decimal mantissa | binary exponent | decimal exponent | decimal number      |\n",
    "|-----------------|------------------|-----------------|------------------|---------------------|\n",
    "| `000`           | `0`              | `0`             | `0`              | `(1+0/8)*2^0 = 1`   | \n",
    "| `001`           | `1`              | `0`             | `0`              | `(1+1/8)*2^0 = 9/8` |\n",
    "| `010`           | `2`              | `0`             | `0`              | `(1+2/8)*2^0 = 10/8`|\n",
    "| `011`           | `3`              | `0`             | `0`              | `(1+3/8)*2^0 = 11/8`|\n",
    "| `100`           | `4`              | `0`             | `0`              | `(1+4/8)*2^0 = 12/8`|\n",
    "| `101`           | `5`              | `0`             | `0`              | `(1+5/8)*2^0 = 13/8`|\n",
    "| `110`           | `6`              | `0`             | `0`              | `(1+6/8)*2^0 = 14/8`|\n",
    "| `111`           | `7`              | `0`             | `0`              | `(1+7/8)*2^0 = 15/8`|\n",
    "| `000`           | `0`              | `1`             | `1`              | `(1+0/8)*2^1 = 2`   | \n",
    "| `001`           | `1`              | `1`             | `1`              | `(1+1/8)*2^1 = 18/8`|\n",
    "| `010`           | `2`              | `1`             | `1`              | `(1+2/8)*2^1 = 20/8`|\n",
    "| `011`           | `3`              | `1`             | `1`              | `(1+3/8)*2^1 = 22/8`|\n",
    "| `100`           | `4`              | `1`             | `1`              | `(1+4/8)*2^1 = 24/8 = 3`|\n",
    "| `101`           | `5`              | `1`             | `1`              | `(1+5/8)*2^1 = 26/8`|\n",
    "| `110`           | `6`              | `1`             | `1`              | `(1+6/8)*2^1 = 28/8`|\n",
    "| `111`           | `7`              | `1`             | `1`              | `(1+7/8)*2^1 = 30/8`|\n",
    "\n",
    "From this elementary example we learn:\n",
    " - The numbers representable with a *finite* precision are *finite*, in this case they are $16 = 2^4$.\n",
    " - There are a minimum and a maximum number that can be represented.\n",
    " - In between $2^n$ and $2^{n+1}$ there is a fixed number of numbers, in particular $2^3 = 8$.\n",
    " - The spacing in betweeen numbers gorws as numbers grow. We obseve that number multiplied by $2^0$ are $1/8$ spaced, numbers mutiplied by $2^1$ are $2/8$ spaced. The greater the exponent the less precise is the representation."
   ]
  },
  {
   "cell_type": "markdown",
   "metadata": {},
   "source": [
    "# Floating Point Representation\n",
    "\n",
    "$$\n",
    "(1-2\\cdot\\mathrm{sign})\\cdot(1+\\mathrm{normalised\\ mantissa})\\cdot 2^{\\mathrm{exponent}-\\mathrm{bias}}\n",
    "$$\n",
    "\n",
    "Check on the [IEEE link](http://www.h-schmidt.net/FloatConverter/IEEE754.html):\n",
    " - What is the binary representation for 1? \n",
    "   * You get $2^0$.\n",
    "   * The value for the exponent is `01111111 = 10000000 - 00000001`.\n",
    "   * Which in deciaml reads: $2^7-1 = 128 -1 = 127$\n",
    "   * $127$ is the `bias` for the exponent representation: $2^{\\mathrm{exponent}-\\mathrm{bias}}$\n",
    " - Switch on the least meaningful bit for the exponent, you get $2^{-126}$. This tells you that the bias number, dividing positive and negative exponents, is $2^7-1 = 127$.\n",
    " - Switch on 2. What happens now if you switch on the least significative bit for the exponent?\n",
    " - What is the binary representation for .5?\n",
    " - What is the binary representation for 2?\n",
    " - What is the binary representation for 8?\n",
    " - What is the binary representation for 0.1? And for 0.100000001?\n",
    " - Control what happens with 3.\n",
    " "
   ]
  },
  {
   "cell_type": "markdown",
   "metadata": {},
   "source": [
    "## Single Precision Representation\n",
    "\n",
    "- 32 bits.\n",
    "  * 1 bit for the sign.\n",
    "  * 8 bits for the exponent.\n",
    "  * 23 bits for the mantissa."
   ]
  },
  {
   "cell_type": "markdown",
   "metadata": {},
   "source": [
    "### From Float to Binary"
   ]
  },
  {
   "cell_type": "code",
   "execution_count": null,
   "metadata": {
    "collapsed": false
   },
   "outputs": [],
   "source": []
  },
  {
   "cell_type": "markdown",
   "metadata": {},
   "source": [
    "### From Binary to Float"
   ]
  },
  {
   "cell_type": "code",
   "execution_count": null,
   "metadata": {
    "collapsed": false
   },
   "outputs": [],
   "source": []
  },
  {
   "cell_type": "markdown",
   "metadata": {},
   "source": [
    "## Double Precision \n",
    "\n",
    " - 64 bits.\n",
    "   * 1 bit for the sign.\n",
    "   * 11 bits for the exponent.\n",
    "   * 52 bits for the mantissa. "
   ]
  },
  {
   "cell_type": "code",
   "execution_count": null,
   "metadata": {
    "collapsed": false
   },
   "outputs": [],
   "source": []
  },
  {
   "cell_type": "code",
   "execution_count": null,
   "metadata": {
    "collapsed": false
   },
   "outputs": [],
   "source": []
  },
  {
   "cell_type": "markdown",
   "metadata": {},
   "source": [
    "## Secial Case"
   ]
  },
  {
   "cell_type": "code",
   "execution_count": null,
   "metadata": {
    "collapsed": false
   },
   "outputs": [],
   "source": []
  },
  {
   "cell_type": "markdown",
   "metadata": {},
   "source": [
    "## Epsilon Machine\n",
    "\n",
    "For any format, the machine epsilon is the difference between 1 and the next larger number that can be stored in that format.\n",
    "\n",
    "To understaind that is sufficent to go back to the IEEE web site, get the represesentation for one, and switch on the least significative bit for the mantissa, the result we get is $2^{-23}\\approx 10^{-7}$\n"
   ]
  },
  {
   "cell_type": "markdown",
   "metadata": {
    "collapsed": true
   },
   "source": [
    "# Assignement\n",
    "\n",
    "## Finite differences\n",
    "Write a program to compute the finite difference (`FD`)\n",
    "approximation of the derivative of a function `f`, computed at\n",
    "point `x`, using a stepping of size `h`. Recall the definition of\n",
    "approximate derivative:\n",
    "\n",
    "$$\n",
    "FD(f,x,h) := \\frac{f(x+h)-f(x)}{h}\n",
    "$$"
   ]
  },
  {
   "cell_type": "code",
   "execution_count": null,
   "metadata": {
    "collapsed": false
   },
   "outputs": [],
   "source": []
  },
  {
   "cell_type": "markdown",
   "metadata": {},
   "source": [
    "## Compute FD\n",
    "\n",
    "Evaluate this function for the derivative of `sin(x)` evaluated at `x=1`, for values of `h` equal to `1e-i`, with `i=0,...,20`. Store the values of the finite differences in the list `fd1`."
   ]
  },
  {
   "cell_type": "markdown",
   "metadata": {
    "collapsed": false
   },
   "source": [
    "## Error plots\n",
    "\n",
    "Plot the error, defined as `abs(FD-cos(1.0))` where `FD` is your approximation, in `loglog` format and explain what you see. A good way to emphasize the result is to give the option `'-o'` to the plot command."
   ]
  },
  {
   "cell_type": "code",
   "execution_count": null,
   "metadata": {
    "collapsed": false
   },
   "outputs": [],
   "source": []
  },
  {
   "cell_type": "code",
   "execution_count": null,
   "metadata": {
    "collapsed": false
   },
   "outputs": [],
   "source": []
  },
  {
   "cell_type": "markdown",
   "metadata": {},
   "source": [
    "## Error plots base 2\n",
    "Repeate steps above, but using powers of `2` instead of powers of `10`, i.e., using `h` equal to `2**(-i)` for `i=1,...,60`. Do you see differences? How do you explain these differences? Shortly comment.  A good way to emphasize the result is to give the option `'-o'` to the plot command."
   ]
  },
  {
   "cell_type": "code",
   "execution_count": null,
   "metadata": {
    "collapsed": false
   },
   "outputs": [],
   "source": []
  }
 ],
 "metadata": {
  "kernelspec": {
   "display_name": "Python 2",
   "language": "python",
   "name": "python2"
  },
  "language_info": {
   "codemirror_mode": {
    "name": "ipython",
    "version": 2
   },
   "file_extension": ".py",
   "mimetype": "text/x-python",
   "name": "python",
   "nbconvert_exporter": "python",
   "pygments_lexer": "ipython2",
   "version": "2.7.11"
  }
 },
 "nbformat": 4,
 "nbformat_minor": 0
}
